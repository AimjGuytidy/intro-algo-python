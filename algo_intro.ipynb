{
 "cells": [
  {
   "cell_type": "markdown",
   "metadata": {},
   "source": [
    "# Insertion Sorting Algorithm"
   ]
  },
  {
   "cell_type": "code",
   "execution_count": 1,
   "metadata": {},
   "outputs": [],
   "source": [
    "# we are going to write a function that takes an array and uses insertion sort to sort it\n",
    "def insertion_sort(arr):\n",
    "    # we have to ensure that the array at least has 2 elements\n",
    "    for i in range(1,len(arr)):\n",
    "        # we have to preserve the first element we will sort on\n",
    "        # we are going left to right\n",
    "        key = arr[i] \n",
    "        j = i - 1\n",
    "        while j >= 0 and arr[j] > key:\n",
    "            # switch elements depending on the greatest amongst the 2\n",
    "            arr[j + 1] = arr[j]\n",
    "            # we are going right to left\n",
    "            j = j - 1\n",
    "        # we make sure that the replaced element is placed in the right spot\n",
    "        arr[j + 1] = key    \n",
    "    return arr"
   ]
  },
  {
   "cell_type": "markdown",
   "metadata": {},
   "source": [
    "### example"
   ]
  },
  {
   "cell_type": "code",
   "execution_count": 32,
   "metadata": {},
   "outputs": [],
   "source": [
    "# an example to check if our insertion sort works and check how much time it takes\n",
    "arri = [32,54,948,132,3982,1334,234,23,66,3]"
   ]
  },
  {
   "cell_type": "code",
   "execution_count": 3,
   "metadata": {},
   "outputs": [
    {
     "name": "stdout",
     "output_type": "stream",
     "text": [
      "CPU times: total: 0 ns\n",
      "Wall time: 16.2 μs\n"
     ]
    }
   ],
   "source": [
    "%%time\n",
    "sorted_arr = insertion_sort(arri)"
   ]
  },
  {
   "cell_type": "code",
   "execution_count": 4,
   "metadata": {},
   "outputs": [
    {
     "name": "stdout",
     "output_type": "stream",
     "text": [
      "[3, 23, 32, 54, 66, 132, 234, 948, 1334, 3982]\n"
     ]
    }
   ],
   "source": [
    "print(sorted_arr)"
   ]
  },
  {
   "cell_type": "markdown",
   "metadata": {},
   "source": [
    "Non-increasing insertion sort"
   ]
  },
  {
   "cell_type": "code",
   "execution_count": 57,
   "metadata": {},
   "outputs": [],
   "source": [
    "def non_insertion_sort(arr):\n",
    "    for i in range(1,len(arr)):\n",
    "        key = arr[i]\n",
    "        j = i - 1\n",
    "        while j >= 0 and arr[j] < key:\n",
    "            arr[j + 1] = arr[j]\n",
    "            j = j - 1\n",
    "        arr[j + 1] = key\n",
    "    return arr"
   ]
  },
  {
   "cell_type": "code",
   "execution_count": 6,
   "metadata": {},
   "outputs": [
    {
     "name": "stdout",
     "output_type": "stream",
     "text": [
      "[3982, 1334, 948, 234, 132, 66, 54, 32, 23, 3]\n"
     ]
    }
   ],
   "source": [
    "print(non_insertion_sort(arri))"
   ]
  },
  {
   "cell_type": "markdown",
   "metadata": {},
   "source": [
    "Searching problem"
   ]
  },
  {
   "cell_type": "code",
   "execution_count": 7,
   "metadata": {},
   "outputs": [],
   "source": [
    "def search(arr,num):\n",
    "    key = []\n",
    "    for i in range(0,len(arr)):\n",
    "        if arr[i] == num:\n",
    "            key.append(i)\n",
    "    if key == []:\n",
    "        return None\n",
    "            \n",
    "    return key\n",
    "    \n",
    "        "
   ]
  },
  {
   "cell_type": "code",
   "execution_count": 8,
   "metadata": {},
   "outputs": [
    {
     "name": "stdout",
     "output_type": "stream",
     "text": [
      "None\n"
     ]
    }
   ],
   "source": [
    "print(search([2,5,3,8,5,3],9))"
   ]
  },
  {
   "cell_type": "code",
   "execution_count": 9,
   "metadata": {},
   "outputs": [
    {
     "name": "stdout",
     "output_type": "stream",
     "text": [
      "CPU times: total: 0 ns\n",
      "Wall time: 7.39 μs\n"
     ]
    },
    {
     "data": {
      "text/plain": [
       "[2, 5]"
      ]
     },
     "execution_count": 9,
     "metadata": {},
     "output_type": "execute_result"
    }
   ],
   "source": [
    "%%time\n",
    "search([2,5,3,8,5,3],3)"
   ]
  },
  {
   "cell_type": "code",
   "execution_count": 10,
   "metadata": {},
   "outputs": [],
   "source": [
    "def search_none(arr,num):\n",
    "    key = []\n",
    "    for i in range(0,len(arr)):\n",
    "        if arr[i] == num:\n",
    "            key.append(i)\n",
    "    return key"
   ]
  },
  {
   "cell_type": "code",
   "execution_count": 11,
   "metadata": {},
   "outputs": [
    {
     "name": "stdout",
     "output_type": "stream",
     "text": [
      "[]\n",
      "[2, 5]\n"
     ]
    }
   ],
   "source": [
    "print(search_none([2,5,3,8,5,3],9))\n",
    "print(search_none([2,5,3,8,5,3],3))"
   ]
  },
  {
   "cell_type": "code",
   "execution_count": 12,
   "metadata": {},
   "outputs": [
    {
     "name": "stdout",
     "output_type": "stream",
     "text": [
      "CPU times: total: 0 ns\n",
      "Wall time: 5.25 μs\n"
     ]
    },
    {
     "data": {
      "text/plain": [
       "[2, 5]"
      ]
     },
     "execution_count": 12,
     "metadata": {},
     "output_type": "execute_result"
    }
   ],
   "source": [
    "%%time\n",
    "search_none([2,5,3,8,5,3],3)"
   ]
  },
  {
   "cell_type": "code",
   "execution_count": 13,
   "metadata": {},
   "outputs": [],
   "source": [
    "def search_correct(arr,num):\n",
    "    key = None\n",
    "    for i in range(0,len(arr)):\n",
    "        if arr[i] == num:\n",
    "            key = i\n",
    "    return key\n",
    "    "
   ]
  },
  {
   "cell_type": "code",
   "execution_count": 14,
   "metadata": {},
   "outputs": [
    {
     "name": "stdout",
     "output_type": "stream",
     "text": [
      "None\n",
      "5\n"
     ]
    }
   ],
   "source": [
    "print(search_correct([2,5,3,8,5,3],9))\n",
    "print(search_correct([2,5,3,8,5,3],3))"
   ]
  },
  {
   "cell_type": "code",
   "execution_count": 15,
   "metadata": {},
   "outputs": [
    {
     "name": "stdout",
     "output_type": "stream",
     "text": [
      "CPU times: total: 0 ns\n",
      "Wall time: 9.3 μs\n"
     ]
    },
    {
     "data": {
      "text/plain": [
       "5"
      ]
     },
     "execution_count": 15,
     "metadata": {},
     "output_type": "execute_result"
    }
   ],
   "source": [
    "%%time\n",
    "search_correct([2,5,3,8,5,3],3)"
   ]
  },
  {
   "cell_type": "markdown",
   "metadata": {},
   "source": [
    "## Selection Sort Algorithm"
   ]
  },
  {
   "cell_type": "code",
   "execution_count": 47,
   "metadata": {},
   "outputs": [],
   "source": [
    "def smallest(arr):\n",
    "    small = arr[0]\n",
    "    for j in range(1,len(arr)):\n",
    "        if arr[j] <= small:\n",
    "            small = arr[j]\n",
    "        \n",
    "    return small"
   ]
  },
  {
   "cell_type": "code",
   "execution_count": 48,
   "metadata": {},
   "outputs": [
    {
     "name": "stdout",
     "output_type": "stream",
     "text": [
      "3\n"
     ]
    }
   ],
   "source": [
    "arri = [32,54,948,132,3982,1334,234,23,66,3]\n",
    "print(smallest(arri))"
   ]
  },
  {
   "cell_type": "code",
   "execution_count": 15,
   "metadata": {},
   "outputs": [
    {
     "data": {
      "text/plain": [
       "[948, 132, 3982, 1334, 234, 23, 66, 3]"
      ]
     },
     "execution_count": 15,
     "metadata": {},
     "output_type": "execute_result"
    }
   ],
   "source": [
    "smallest(arri[2:])"
   ]
  },
  {
   "cell_type": "code",
   "execution_count": 49,
   "metadata": {},
   "outputs": [],
   "source": [
    "def select_sort(arr):\n",
    "    sorted = []\n",
    "    for j in range(0,len(arr)):\n",
    "        smaller = smallest(arr)\n",
    "        sorted.append(smaller)\n",
    "        arr.remove(smaller)\n",
    "    return sorted"
   ]
  },
  {
   "cell_type": "code",
   "execution_count": 24,
   "metadata": {},
   "outputs": [
    {
     "data": {
      "text/plain": [
       "[32, 54, 948, 132, 3982, 1334, 234, 23, 66, 3]"
      ]
     },
     "execution_count": 24,
     "metadata": {},
     "output_type": "execute_result"
    }
   ],
   "source": [
    "arri"
   ]
  },
  {
   "cell_type": "code",
   "execution_count": 56,
   "metadata": {},
   "outputs": [
    {
     "name": "stdout",
     "output_type": "stream",
     "text": [
      "[3, 23, 32, 54, 66, 132, 234, 948, 1334, 3982]\n"
     ]
    }
   ],
   "source": [
    "arri = [32,54,948,132,3982,1334,234,23,66,3]\n",
    "sorted_arr = []\n",
    "arr_copy = arri.copy()\n",
    "for j in range(0, len(arr_copy)):\n",
    "    smaller = smallest(arr_copy)\n",
    "    sorted_arr.append(smaller)\n",
    "    arr_copy.remove(smaller)\n",
    "print(sorted_arr)"
   ]
  },
  {
   "cell_type": "code",
   "execution_count": 54,
   "metadata": {},
   "outputs": [
    {
     "name": "stdout",
     "output_type": "stream",
     "text": [
      "[3, 23, 32, 54, 66, 132, 234, 948, 1334, 3982]\n"
     ]
    }
   ],
   "source": [
    "arri = [32,54,948,132,3982,1334,234,23,66,3]\n",
    "print(select_sort(arri))"
   ]
  },
  {
   "cell_type": "code",
   "execution_count": 58,
   "metadata": {},
   "outputs": [
    {
     "name": "stdout",
     "output_type": "stream",
     "text": [
      "[3, 23, 32, 54, 66, 132, 234, 948, 1334, 3982]\n"
     ]
    }
   ],
   "source": [
    "arri = [3, 23, 32, 54, 66, 132, 234, 948, 1334, 3982]\n",
    "print(select_sort(non_insertion_sort(arri)))"
   ]
  },
  {
   "cell_type": "code",
   "execution_count": null,
   "metadata": {},
   "outputs": [],
   "source": []
  }
 ],
 "metadata": {
  "kernelspec": {
   "display_name": "env",
   "language": "python",
   "name": "python3"
  },
  "language_info": {
   "codemirror_mode": {
    "name": "ipython",
    "version": 3
   },
   "file_extension": ".py",
   "mimetype": "text/x-python",
   "name": "python",
   "nbconvert_exporter": "python",
   "pygments_lexer": "ipython3",
   "version": "3.13.1"
  }
 },
 "nbformat": 4,
 "nbformat_minor": 2
}
