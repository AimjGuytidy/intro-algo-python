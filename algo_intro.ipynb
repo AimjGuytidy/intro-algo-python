{
 "cells": [
  {
   "cell_type": "code",
   "execution_count": null,
   "metadata": {},
   "outputs": [],
   "source": []
  },
  {
   "cell_type": "markdown",
   "metadata": {},
   "source": [
    "# Insertion Sorting Algorithm"
   ]
  },
  {
   "cell_type": "code",
   "execution_count": 1,
   "metadata": {},
   "outputs": [],
   "source": [
    "# we are going to write a function that takes an array and uses insertion sort to sort it\n",
    "def insertion_sort(arr):\n",
    "    # we have to ensure that the array at least has 2 elements\n",
    "    for i in range(1,len(arr)):\n",
    "        # we have to preserve the first element we will sort on\n",
    "        # we are going left to right\n",
    "        arr[i] = key \n",
    "        j = i - 1\n",
    "        while j > 0 and arr[j] > key:\n",
    "            # switch elements depending on the greatest amongst the 2\n",
    "            arr[j + 1] = arr[j]\n",
    "            # we are going right to left\n",
    "            j = j - 1\n",
    "        # we make sure that the replaced element is placed in the right spot\n",
    "        arr[j + 1] = key    \n",
    "    return arr"
   ]
  },
  {
   "cell_type": "code",
   "execution_count": null,
   "metadata": {},
   "outputs": [],
   "source": []
  }
 ],
 "metadata": {
  "kernelspec": {
   "display_name": "env",
   "language": "python",
   "name": "python3"
  },
  "language_info": {
   "codemirror_mode": {
    "name": "ipython",
    "version": 3
   },
   "file_extension": ".py",
   "mimetype": "text/x-python",
   "name": "python",
   "nbconvert_exporter": "python",
   "pygments_lexer": "ipython3",
   "version": "3.13.1"
  }
 },
 "nbformat": 4,
 "nbformat_minor": 2
}
