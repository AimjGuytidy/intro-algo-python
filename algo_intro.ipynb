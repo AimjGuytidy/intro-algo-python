{
 "cells": [
  {
   "cell_type": "markdown",
   "metadata": {},
   "source": [
    "# Insertion Sorting Algorithm"
   ]
  },
  {
   "cell_type": "code",
   "execution_count": 1,
   "metadata": {},
   "outputs": [],
   "source": [
    "# we are going to write a function that takes an array and uses insertion sort to sort it\n",
    "def insertion_sort(arr):\n",
    "    # we have to ensure that the array at least has 2 elements\n",
    "    for i in range(1,len(arr)):\n",
    "        # we have to preserve the first element we will sort on\n",
    "        # we are going left to right\n",
    "        key = arr[i] \n",
    "        j = i - 1\n",
    "        while j >= 0 and arr[j] > key:\n",
    "            # switch elements depending on the greatest amongst the 2\n",
    "            arr[j + 1] = arr[j]\n",
    "            # we are going right to left\n",
    "            j = j - 1\n",
    "        # we make sure that the replaced element is placed in the right spot\n",
    "        arr[j + 1] = key    \n",
    "    return arr"
   ]
  },
  {
   "cell_type": "markdown",
   "metadata": {},
   "source": [
    "### example"
   ]
  },
  {
   "cell_type": "code",
   "execution_count": 36,
   "metadata": {},
   "outputs": [],
   "source": [
    "# an example to check if our insertion sort works and check how much time it takes\n",
    "arri = [32,54,948,132,3982,1334,234,23,66,3]"
   ]
  },
  {
   "cell_type": "code",
   "execution_count": 39,
   "metadata": {},
   "outputs": [
    {
     "name": "stdout",
     "output_type": "stream",
     "text": [
      "CPU times: total: 0 ns\n",
      "Wall time: 9.54 μs\n"
     ]
    }
   ],
   "source": [
    "%%time\n",
    "sorted_arr = insertion_sort(arri)"
   ]
  },
  {
   "cell_type": "code",
   "execution_count": 40,
   "metadata": {},
   "outputs": [
    {
     "name": "stdout",
     "output_type": "stream",
     "text": [
      "[3, 23, 32, 54, 66, 132, 234, 948, 1334, 3982]\n"
     ]
    }
   ],
   "source": [
    "print(sorted_arr)"
   ]
  },
  {
   "cell_type": "markdown",
   "metadata": {},
   "source": [
    "Non-increasing insertion sort"
   ]
  },
  {
   "cell_type": "code",
   "execution_count": 45,
   "metadata": {},
   "outputs": [],
   "source": [
    "def non_insertion_sort(arr):\n",
    "    for i in range(0,len(arr)):\n",
    "        key = arr[i]\n",
    "        j = i - 1\n",
    "        while j >= 0 and arr[j] < key:\n",
    "            arr[j + 1] = arr[j]\n",
    "            j = j - 1\n",
    "        arr[j + 1] = key\n",
    "    return arr"
   ]
  },
  {
   "cell_type": "code",
   "execution_count": 48,
   "metadata": {},
   "outputs": [
    {
     "name": "stdout",
     "output_type": "stream",
     "text": [
      "[3982, 1334, 948, 234, 132, 66, 54, 32, 23, 3]\n"
     ]
    }
   ],
   "source": [
    "print(non_insertion_sort(arri))"
   ]
  },
  {
   "cell_type": "code",
   "execution_count": null,
   "metadata": {},
   "outputs": [],
   "source": []
  }
 ],
 "metadata": {
  "kernelspec": {
   "display_name": "env",
   "language": "python",
   "name": "python3"
  },
  "language_info": {
   "codemirror_mode": {
    "name": "ipython",
    "version": 3
   },
   "file_extension": ".py",
   "mimetype": "text/x-python",
   "name": "python",
   "nbconvert_exporter": "python",
   "pygments_lexer": "ipython3",
   "version": "3.13.1"
  }
 },
 "nbformat": 4,
 "nbformat_minor": 2
}
